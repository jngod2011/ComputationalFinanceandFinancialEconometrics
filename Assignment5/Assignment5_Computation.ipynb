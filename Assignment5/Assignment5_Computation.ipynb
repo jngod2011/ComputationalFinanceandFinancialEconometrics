{
 "metadata": {
  "name": "",
  "signature": "sha256:c16291c7e9253ed0adb500b16903722e993fc566ac0aae16c31bda88f4ca4ec9"
 },
 "nbformat": 3,
 "nbformat_minor": 0,
 "worksheets": [
  {
   "cells": [
    {
     "cell_type": "markdown",
     "metadata": {},
     "source": [
      "Question 1\n",
      "---------------\n",
      "Let $E[X]=2,E[Y]=1,Var[X]=3,Var[Y]=2.5$ and $Cov(X,Y)=.9$<br>\n",
      "(10) What is $E[.4X+.6Y]$?"
     ]
    },
    {
     "cell_type": "code",
     "collapsed": false,
     "input": [
      "ex = 2; ey=1; vx=3; vy=2.5; cov=0.9\n",
      "0.4*ex+0.6*ey"
     ],
     "language": "python",
     "metadata": {},
     "outputs": [
      {
       "metadata": {},
       "output_type": "pyout",
       "prompt_number": 1,
       "text": [
        "1.4"
       ]
      }
     ],
     "prompt_number": 1
    },
    {
     "cell_type": "markdown",
     "metadata": {},
     "source": [
      "Question 2\n",
      "----------\n",
      "(10) What is $Var[.4X+.6Y]$?"
     ]
    },
    {
     "cell_type": "code",
     "collapsed": false,
     "input": [
      "0.4**2 * vx + 0.6**2 * vy + 2*0.4*.6*cov"
     ],
     "language": "python",
     "metadata": {},
     "outputs": [
      {
       "metadata": {},
       "output_type": "pyout",
       "prompt_number": 2,
       "text": [
        "1.8119999999999998"
       ]
      }
     ],
     "prompt_number": 2
    },
    {
     "cell_type": "markdown",
     "metadata": {},
     "source": [
      "Question 3\n",
      "---------------\n",
      "(10) Suppose $X$ and $Y$ are returns on two assets, and w is your portfolio weight in asset $X$ with $(1\u2212w)$ being the portfolio weight in asset Y. What value of $w$ minimizes the variance of your portfolio?"
     ]
    },
    {
     "cell_type": "code",
     "collapsed": false,
     "input": [
      "from scipy.optimize import minimize\n",
      "def varp(x):\n",
      "    return x[0]**2 * vx + (1-x[0])**2 * vy + 2 * x[0] *(1-x[0]) *cov\n",
      "\n",
      "bnds = ((0,1),(0,0))\n",
      "res = minimize(varp,(0.5,0), method='TNC',bounds=bnds)\n",
      "res.x[0]"
     ],
     "language": "python",
     "metadata": {},
     "outputs": [
      {
       "metadata": {},
       "output_type": "pyout",
       "prompt_number": 3,
       "text": [
        "0.43243242571229745"
       ]
      }
     ],
     "prompt_number": 3
    },
    {
     "cell_type": "markdown",
     "metadata": {},
     "source": [
      "Question 4\n",
      "--------------\n",
      "(10) What is the variance of the portfolio with the weights you derived in the previous question?"
     ]
    },
    {
     "cell_type": "code",
     "collapsed": false,
     "input": [
      "varp(res.x)"
     ],
     "language": "python",
     "metadata": {},
     "outputs": [
      {
       "metadata": {},
       "output_type": "pyout",
       "prompt_number": 4,
       "text": [
        "1.8081081081081085"
       ]
      }
     ],
     "prompt_number": 4
    },
    {
     "cell_type": "markdown",
     "metadata": {},
     "source": [
      "Question 5\n",
      "--------------\n",
      "(10) What is the expected value of the portfolio with the weights you derived in the previous question?"
     ]
    },
    {
     "cell_type": "code",
     "collapsed": false,
     "input": [
      "def ep(x):\n",
      "    return x * ex + (1-x)*ey\n",
      "ep(res.x[0])"
     ],
     "language": "python",
     "metadata": {},
     "outputs": [
      {
       "metadata": {},
       "output_type": "pyout",
       "prompt_number": 5,
       "text": [
        "1.4324324257122973"
       ]
      }
     ],
     "prompt_number": 5
    },
    {
     "cell_type": "markdown",
     "metadata": {},
     "source": [
      "Question 6\n",
      "----------\n",
      "For the following questions, consider the AR(1) model:\n",
      "$$Y_t=10+.6Y_{t\u22121}+\\epsilon_t \\\\\n",
      "\\epsilon_t\u223cN(0,2^2)$$\n",
      "(10) The process is covariance stationary."
     ]
    },
    {
     "cell_type": "markdown",
     "metadata": {},
     "source": [
      "TRUE <br>\n",
      "$var(Y_t) = 0.6^2 var(Y_{t-1}) + 2^2$"
     ]
    },
    {
     "cell_type": "markdown",
     "metadata": {},
     "source": [
      "Question 7\n",
      "--------------------\n",
      "(10) What is the mean of this process?"
     ]
    },
    {
     "cell_type": "markdown",
     "metadata": {},
     "source": [
      "$E(Y)= 10+0.6E(Y)+0$<br>\n",
      "$E(Y)=25$"
     ]
    },
    {
     "cell_type": "markdown",
     "metadata": {},
     "source": [
      "Question 8\n",
      "--------------------\n",
      "(10) What is the variance of the process?"
     ]
    },
    {
     "cell_type": "markdown",
     "metadata": {},
     "source": [
      "$var(Y) = 0.6^2 var(Y) + 2^2$<br>\n",
      "$var(Y) = 6.25$"
     ]
    },
    {
     "cell_type": "code",
     "collapsed": false,
     "input": [],
     "language": "python",
     "metadata": {},
     "outputs": [],
     "prompt_number": 5
    }
   ],
   "metadata": {}
  }
 ]
}